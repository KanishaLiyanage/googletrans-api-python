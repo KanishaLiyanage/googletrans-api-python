{
  "cells": [
    {
      "cell_type": "code",
      "execution_count": 2,
      "metadata": {
        "id": "JIJxRraVzsAq"
      },
      "outputs": [],
      "source": [
        "import os\n",
        "import glob\n",
        "import pandas as pd"
      ]
    },
    {
      "cell_type": "code",
      "execution_count": 11,
      "metadata": {
        "colab": {
          "base_uri": "https://localhost:8080/"
        },
        "id": "xotMx36m7xjj",
        "outputId": "43f43f52-daae-4ffa-fb86-c5a3813c0cae"
      },
      "outputs": [
        {
          "name": "stdout",
          "output_type": "stream",
          "text": [
            "The file exists.\n"
          ]
        }
      ],
      "source": [
        "import os\n",
        "\n",
        "file_name = 'translated_csv/csv files/train4.csv'\n",
        "if os.path.isfile(file_name):\n",
        "    print('The file exists.')\n",
        "else:\n",
        "    print('The file does not exist.')"
      ]
    },
    {
      "cell_type": "code",
      "execution_count": 12,
      "metadata": {
        "id": "7qdO2sD-0dGS"
      },
      "outputs": [],
      "source": [
        "df_list = []\n",
        "for i in range(1, 11):\n",
        "    file_name = 'translated_csv/csv files/train{}.csv'.format(i)\n",
        "    df = pd.read_csv(file_name)\n",
        "    df_list.append(df)"
      ]
    },
    {
      "cell_type": "code",
      "execution_count": 13,
      "metadata": {
        "colab": {
          "base_uri": "https://localhost:8080/"
        },
        "id": "5Z1x1RIo4YxT",
        "outputId": "b533de31-2581-4087-d8aa-eb91dcc593f6"
      },
      "outputs": [
        {
          "name": "stdout",
          "output_type": "stream",
          "text": [
            "/content/drive/MyDrive/Colab Notebooks/Final Year Research/googletrans-api-python/translated_csv/train10.csv\n"
          ]
        }
      ],
      "source": [
        "print(file_name)"
      ]
    },
    {
      "cell_type": "code",
      "execution_count": 14,
      "metadata": {
        "id": "uIg8pVWm0f4a"
      },
      "outputs": [],
      "source": [
        "merged_df = pd.concat(df_list)\n",
        "\n",
        "merged_df.to_csv('merged_csv/train.csv', index=False)"
      ]
    }
  ],
  "metadata": {
    "colab": {
      "provenance": []
    },
    "kernelspec": {
      "display_name": "Python 3",
      "name": "python3"
    },
    "language_info": {
      "name": "python"
    }
  },
  "nbformat": 4,
  "nbformat_minor": 0
}
